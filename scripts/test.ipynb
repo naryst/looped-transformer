{
 "cells": [
  {
   "cell_type": "code",
   "execution_count": 1,
   "id": "c609b856-72b2-4265-8b6f-3edd43678d83",
   "metadata": {},
   "outputs": [
    {
     "name": "stdout",
     "output_type": "stream",
     "text": [
      "number of parameters: 2.38M\n"
     ]
    }
   ],
   "source": [
    "from models import TransformerModelLooped\n",
    "import torch\n",
    "from nano_gpt import GPT2Model, GPT2Config\n",
    "\n",
    "\n",
    "model = TransformerModelLooped(n_dims=30, n_positions=20)"
   ]
  },
  {
   "cell_type": "code",
   "execution_count": 2,
   "id": "20af5e48",
   "metadata": {},
   "outputs": [
    {
     "data": {
      "text/plain": [
       "tensor[5, 10, 10] n=500 (2.0Kb) x∈[0.001, 0.982] μ=0.260 σ=0.231"
      ]
     },
     "execution_count": 2,
     "metadata": {},
     "output_type": "execute_result"
    }
   ],
   "source": [
    "xs = torch.rand((5, 10, 10))\n",
    "ys = torch.rand((5, 10, 10))\n",
    "\n",
    "xs*ys"
   ]
  },
  {
   "cell_type": "code",
   "execution_count": 5,
   "id": "23150b6c-91b9-4b4b-81d6-8f025fbd3f0b",
   "metadata": {},
   "outputs": [
    {
     "name": "stdout",
     "output_type": "stream",
     "text": [
      "torch.Size([10, 20, 30]) torch.Size([10, 20])\n",
      "0\n"
     ]
    }
   ],
   "source": [
    "B = 10\n",
    "n = 20\n",
    "d = 30\n",
    "\n",
    "xs = torch.rand((B, n, d))\n",
    "ys = torch.rand((B, n))\n",
    "print(xs.shape, ys.shape)\n",
    "pred_list = model(xs, ys, 0, 1)"
   ]
  },
  {
   "cell_type": "code",
   "execution_count": 10,
   "id": "dec3235c-39e9-427c-8563-df22a8c682b0",
   "metadata": {},
   "outputs": [
    {
     "name": "stdout",
     "output_type": "stream",
     "text": [
      "number of parameters: 85.06M\n"
     ]
    }
   ],
   "source": [
    "config = GPT2Config()\n",
    "gpt2 = GPT2Model(config)"
   ]
  },
  {
   "cell_type": "code",
   "execution_count": 25,
   "id": "cb6c9619",
   "metadata": {},
   "outputs": [],
   "source": [
    "from mamba import ModelArgs, Mamba"
   ]
  },
  {
   "cell_type": "code",
   "execution_count": 32,
   "id": "949f1385",
   "metadata": {},
   "outputs": [],
   "source": [
    "batch_size = 2\n",
    "n_points = 1000\n",
    "dim = 768\n",
    "xs = torch.rand((batch_size, n_points, dim))"
   ]
  },
  {
   "cell_type": "code",
   "execution_count": 33,
   "id": "6713a71b",
   "metadata": {},
   "outputs": [],
   "source": [
    "args = ModelArgs(d_model=2048, n_layer=1, vocab_size=dim)\n",
    "mamba = Mamba(args)"
   ]
  },
  {
   "cell_type": "code",
   "execution_count": 34,
   "id": "f2e9a57a",
   "metadata": {},
   "outputs": [
    {
     "data": {
      "text/plain": [
       "tensor[2, 1000, 768] n=1536000 (5.9Mb) x∈[-3.906, 6.382] μ=1.374 σ=1.203 grad UnsafeViewBackward0"
      ]
     },
     "execution_count": 34,
     "metadata": {},
     "output_type": "execute_result"
    }
   ],
   "source": [
    "mamba(xs)"
   ]
  }
 ],
 "metadata": {
  "kernelspec": {
   "display_name": "loop_tf",
   "language": "python",
   "name": "python3"
  },
  "language_info": {
   "codemirror_mode": {
    "name": "ipython",
    "version": 3
   },
   "file_extension": ".py",
   "mimetype": "text/x-python",
   "name": "python",
   "nbconvert_exporter": "python",
   "pygments_lexer": "ipython3",
   "version": "3.8.12"
  }
 },
 "nbformat": 4,
 "nbformat_minor": 5
}
