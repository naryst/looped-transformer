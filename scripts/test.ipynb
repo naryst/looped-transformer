{
 "cells": [
  {
   "cell_type": "code",
   "execution_count": 5,
   "id": "c609b856-72b2-4265-8b6f-3edd43678d83",
   "metadata": {},
   "outputs": [
    {
     "name": "stdout",
     "output_type": "stream",
     "text": [
      "number of parameters: 2.38M\n"
     ]
    }
   ],
   "source": [
    "from models import TransformerModelLooped\n",
    "import torch\n",
    "\n",
    "\n",
    "model = TransformerModelLooped(n_dims=30, n_positions=20)"
   ]
  },
  {
   "cell_type": "code",
   "execution_count": 6,
   "id": "23150b6c-91b9-4b4b-81d6-8f025fbd3f0b",
   "metadata": {},
   "outputs": [
    {
     "data": {
      "text/plain": [
       "(torch.Size([10, 20, 30]), torch.Size([10, 20]))"
      ]
     },
     "execution_count": 6,
     "metadata": {},
     "output_type": "execute_result"
    }
   ],
   "source": [
    "B = 10\n",
    "n = 20\n",
    "d = 30\n",
    "\n",
    "xs = torch.rand((B, n, d))\n",
    "ys = torch.rand((B, n))\n",
    "xs.shape, ys.shape"
   ]
  },
  {
   "cell_type": "code",
   "execution_count": 7,
   "id": "dec3235c-39e9-427c-8563-df22a8c682b0",
   "metadata": {},
   "outputs": [
    {
     "name": "stdout",
     "output_type": "stream",
     "text": [
      "torch.Size([10, 40, 128])\n",
      "0\n"
     ]
    }
   ],
   "source": [
    "pred_list = model(xs, ys, 0, 1)"
   ]
  }
 ],
 "metadata": {
  "kernelspec": {
   "display_name": "loop_tf",
   "language": "python",
   "name": "python3"
  },
  "language_info": {
   "codemirror_mode": {
    "name": "ipython",
    "version": 3
   },
   "file_extension": ".py",
   "mimetype": "text/x-python",
   "name": "python",
   "nbconvert_exporter": "python",
   "pygments_lexer": "ipython3",
   "version": "3.8.12"
  }
 },
 "nbformat": 4,
 "nbformat_minor": 5
}
